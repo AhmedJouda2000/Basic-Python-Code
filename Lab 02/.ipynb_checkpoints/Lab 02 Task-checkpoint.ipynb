{
 "cells": [
  {
   "cell_type": "markdown",
   "metadata": {},
   "source": [
    "# Lab 2 Tasks"
   ]
  },
  {
   "cell_type": "markdown",
   "metadata": {},
   "source": [
    "### Task 1. \n",
    "\n",
    "Download the comma-separated file *scores.csv* from the module Brightspace page and save it to the same directory as your notebooks. \n",
    "\n",
    "Write a function *display_numbers()* which takes one parameter - a file path. The function should read floating point numbers from each line in the specified file, and compute the total for the values on each line. Print each total to 2 decimal places. \n",
    "\n",
    "Apply the function *display_numbers()* to *scores.csv*."
   ]
  },
  {
   "cell_type": "code",
   "execution_count": 174,
   "metadata": {},
   "outputs": [],
   "source": [
    "def display_numbers(filePath):\n",
    "    file_in = open(filePath, 'r')\n",
    "    Lines = file_in.readlines()\n",
    "    count = 0\n",
    "    # Strips the newline character \n",
    "    for line in Lines: \n",
    "        line = line.split(\",\")\n",
    "        total = 0\n",
    "        for i in range(4):\n",
    "            total = total + float(line[i])\n",
    "        print(\"Line\", count, \"=\",round(total,2))\n",
    "        count = count+1\n"
   ]
  },
  {
   "cell_type": "code",
   "execution_count": 175,
   "metadata": {},
   "outputs": [
    {
     "name": "stdout",
     "output_type": "stream",
     "text": [
      "Line 0 = 2.84\n",
      "Line 1 = 3.57\n",
      "Line 2 = 1.57\n",
      "Line 3 = 2.41\n",
      "Line 4 = 2.47\n",
      "Line 5 = 3.02\n"
     ]
    }
   ],
   "source": [
    "display_numbers(\"scores.csv\")"
   ]
  },
  {
   "cell_type": "markdown",
   "metadata": {
    "collapsed": true
   },
   "source": [
    "### Task 2.\n",
    "\n",
    "Write a function *reverse_numbers()* which takes two parameters - an input file path and an output file path. The function should read floating point numbers from each line in the specified input file. The order of the values from in line should then be reversed, and these lines should be written to the specifed output file.\n",
    "\n",
    "Apply the function *reverse_numbers()* to *scores.csv* to create a new file *reversed.csv*."
   ]
  },
  {
   "cell_type": "code",
   "execution_count": 176,
   "metadata": {},
   "outputs": [],
   "source": [
    "def reverse_numbers(inputFile, outputFile):\n",
    "    file_in = open(inputFile, 'r')\n",
    "    file_out = open(outputFile,'w') \n",
    "    Lines = file_in.readlines()\n",
    "    # Strips the newline character \n",
    "    for line in Lines: \n",
    "        line = line.split(\",\")\n",
    "        line [3] = line[3].strip()\n",
    "        line = line[::-1]\n",
    "        x = str(line).strip(\"[]\")\n",
    "        x = x.replace(\"'\", \"\")\n",
    "        file_out.write(x)\n",
    "        file_out.write(\"\\n\")\n",
    "     \n",
    "    file_out.close"
   ]
  },
  {
   "cell_type": "code",
   "execution_count": 177,
   "metadata": {},
   "outputs": [],
   "source": [
    "reverse_numbers(\"scores.csv\", \"output.csv\")"
   ]
  },
  {
   "cell_type": "code",
   "execution_count": null,
   "metadata": {},
   "outputs": [],
   "source": []
  }
 ],
 "metadata": {
  "kernelspec": {
   "display_name": "Python 3",
   "language": "python",
   "name": "python3"
  },
  "language_info": {
   "codemirror_mode": {
    "name": "ipython",
    "version": 3
   },
   "file_extension": ".py",
   "mimetype": "text/x-python",
   "name": "python",
   "nbconvert_exporter": "python",
   "pygments_lexer": "ipython3",
   "version": "3.8.5"
  }
 },
 "nbformat": 4,
 "nbformat_minor": 1
}
