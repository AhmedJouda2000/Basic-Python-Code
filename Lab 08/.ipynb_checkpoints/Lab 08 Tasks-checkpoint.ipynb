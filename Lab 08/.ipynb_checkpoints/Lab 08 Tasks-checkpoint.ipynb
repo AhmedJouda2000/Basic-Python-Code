{
 "cells": [
  {
   "cell_type": "markdown",
   "metadata": {},
   "source": [
    "# Lab 8 Tasks"
   ]
  },
  {
   "cell_type": "markdown",
   "metadata": {},
   "source": [
    "Step 1. Download a subset of the 2019 World Happiness Index data from the link below, and load the data into a Pandas Data Frame\n",
    "\n",
    "http://mlg.ucd.ie/modules/COMP30760/happiness2019.csv\n",
    "\n",
    "The fields in the data correspond to the following measures:\n",
    "- *country*: name of the country for each row\n",
    "- *gdp*: real GDP per capita\n",
    "- *social_support*: amount of social support that is present in a country\n",
    "- *health*: healthy life expectancy,\n",
    "- *freedom*: freedom to make life choices \n",
    "- *generosity*: leve of generosity of citizens\n",
    "- *corruption*: perceptions of corruption in a country"
   ]
  },
  {
   "cell_type": "code",
   "execution_count": 4,
   "metadata": {},
   "outputs": [
    {
     "name": "stdout",
     "output_type": "stream",
     "text": [
      "CSV saved!\n"
     ]
    },
    {
     "data": {
      "text/html": [
       "<div>\n",
       "<style scoped>\n",
       "    .dataframe tbody tr th:only-of-type {\n",
       "        vertical-align: middle;\n",
       "    }\n",
       "\n",
       "    .dataframe tbody tr th {\n",
       "        vertical-align: top;\n",
       "    }\n",
       "\n",
       "    .dataframe thead th {\n",
       "        text-align: right;\n",
       "    }\n",
       "</style>\n",
       "<table border=\"1\" class=\"dataframe\">\n",
       "  <thead>\n",
       "    <tr style=\"text-align: right;\">\n",
       "      <th></th>\n",
       "      <th>country</th>\n",
       "      <th>gdp</th>\n",
       "      <th>social_support</th>\n",
       "      <th>health</th>\n",
       "      <th>freedom</th>\n",
       "      <th>generosity</th>\n",
       "      <th>corruption</th>\n",
       "    </tr>\n",
       "  </thead>\n",
       "  <tbody>\n",
       "    <tr>\n",
       "      <th>0</th>\n",
       "      <td>Afghanistan</td>\n",
       "      <td>0.350</td>\n",
       "      <td>0.517</td>\n",
       "      <td>0.361</td>\n",
       "      <td>0.000</td>\n",
       "      <td>0.158</td>\n",
       "      <td>0.025</td>\n",
       "    </tr>\n",
       "    <tr>\n",
       "      <th>1</th>\n",
       "      <td>Albania</td>\n",
       "      <td>0.947</td>\n",
       "      <td>0.848</td>\n",
       "      <td>0.874</td>\n",
       "      <td>0.383</td>\n",
       "      <td>0.178</td>\n",
       "      <td>0.027</td>\n",
       "    </tr>\n",
       "    <tr>\n",
       "      <th>2</th>\n",
       "      <td>Algeria</td>\n",
       "      <td>1.002</td>\n",
       "      <td>1.160</td>\n",
       "      <td>0.785</td>\n",
       "      <td>0.086</td>\n",
       "      <td>0.073</td>\n",
       "      <td>0.114</td>\n",
       "    </tr>\n",
       "    <tr>\n",
       "      <th>3</th>\n",
       "      <td>Argentina</td>\n",
       "      <td>1.092</td>\n",
       "      <td>1.432</td>\n",
       "      <td>0.881</td>\n",
       "      <td>0.471</td>\n",
       "      <td>0.066</td>\n",
       "      <td>0.050</td>\n",
       "    </tr>\n",
       "    <tr>\n",
       "      <th>4</th>\n",
       "      <td>Armenia</td>\n",
       "      <td>0.850</td>\n",
       "      <td>1.055</td>\n",
       "      <td>0.815</td>\n",
       "      <td>0.283</td>\n",
       "      <td>0.095</td>\n",
       "      <td>0.064</td>\n",
       "    </tr>\n",
       "    <tr>\n",
       "      <th>...</th>\n",
       "      <td>...</td>\n",
       "      <td>...</td>\n",
       "      <td>...</td>\n",
       "      <td>...</td>\n",
       "      <td>...</td>\n",
       "      <td>...</td>\n",
       "      <td>...</td>\n",
       "    </tr>\n",
       "    <tr>\n",
       "      <th>151</th>\n",
       "      <td>Venezuela</td>\n",
       "      <td>0.960</td>\n",
       "      <td>1.427</td>\n",
       "      <td>0.805</td>\n",
       "      <td>0.154</td>\n",
       "      <td>0.064</td>\n",
       "      <td>0.047</td>\n",
       "    </tr>\n",
       "    <tr>\n",
       "      <th>152</th>\n",
       "      <td>Vietnam</td>\n",
       "      <td>0.741</td>\n",
       "      <td>1.346</td>\n",
       "      <td>0.851</td>\n",
       "      <td>0.543</td>\n",
       "      <td>0.147</td>\n",
       "      <td>0.073</td>\n",
       "    </tr>\n",
       "    <tr>\n",
       "      <th>153</th>\n",
       "      <td>Yemen</td>\n",
       "      <td>0.287</td>\n",
       "      <td>1.163</td>\n",
       "      <td>0.463</td>\n",
       "      <td>0.143</td>\n",
       "      <td>0.108</td>\n",
       "      <td>0.077</td>\n",
       "    </tr>\n",
       "    <tr>\n",
       "      <th>154</th>\n",
       "      <td>Zambia</td>\n",
       "      <td>0.578</td>\n",
       "      <td>1.058</td>\n",
       "      <td>0.426</td>\n",
       "      <td>0.431</td>\n",
       "      <td>0.247</td>\n",
       "      <td>0.087</td>\n",
       "    </tr>\n",
       "    <tr>\n",
       "      <th>155</th>\n",
       "      <td>Zimbabwe</td>\n",
       "      <td>0.366</td>\n",
       "      <td>1.114</td>\n",
       "      <td>0.433</td>\n",
       "      <td>0.361</td>\n",
       "      <td>0.151</td>\n",
       "      <td>0.089</td>\n",
       "    </tr>\n",
       "  </tbody>\n",
       "</table>\n",
       "<p>156 rows × 7 columns</p>\n",
       "</div>"
      ],
      "text/plain": [
       "         country    gdp  social_support  health  freedom  generosity  \\\n",
       "0    Afghanistan  0.350           0.517   0.361    0.000       0.158   \n",
       "1        Albania  0.947           0.848   0.874    0.383       0.178   \n",
       "2        Algeria  1.002           1.160   0.785    0.086       0.073   \n",
       "3      Argentina  1.092           1.432   0.881    0.471       0.066   \n",
       "4        Armenia  0.850           1.055   0.815    0.283       0.095   \n",
       "..           ...    ...             ...     ...      ...         ...   \n",
       "151    Venezuela  0.960           1.427   0.805    0.154       0.064   \n",
       "152      Vietnam  0.741           1.346   0.851    0.543       0.147   \n",
       "153        Yemen  0.287           1.163   0.463    0.143       0.108   \n",
       "154       Zambia  0.578           1.058   0.426    0.431       0.247   \n",
       "155     Zimbabwe  0.366           1.114   0.433    0.361       0.151   \n",
       "\n",
       "     corruption  \n",
       "0         0.025  \n",
       "1         0.027  \n",
       "2         0.114  \n",
       "3         0.050  \n",
       "4         0.064  \n",
       "..          ...  \n",
       "151       0.047  \n",
       "152       0.073  \n",
       "153       0.077  \n",
       "154       0.087  \n",
       "155       0.089  \n",
       "\n",
       "[156 rows x 7 columns]"
      ]
     },
     "execution_count": 4,
     "metadata": {},
     "output_type": "execute_result"
    }
   ],
   "source": [
    "import numpy as np\n",
    "import pandas as pd\n",
    "import matplotlib.pyplot as plt\n",
    "%matplotlib inline\n",
    "import requests\n",
    "url = \"http://mlg.ucd.ie/modules/COMP30760/happiness2019.csv\"\n",
    "response = requests.get(url)\n",
    "with open(\"happiness.csv\", \"wb\") as f:\n",
    "            f.write(response.content)\n",
    "            print(\"CSV saved!\")\n",
    "            \n",
    "data = pd.read_csv(\"happiness.csv\")\n",
    "data"
   ]
  },
  {
   "cell_type": "markdown",
   "metadata": {},
   "source": [
    "Step 2. Calculate basic summary statistics for the data. List the top 5 ranked countries for each measure."
   ]
  },
  {
   "cell_type": "code",
   "execution_count": 8,
   "metadata": {},
   "outputs": [
    {
     "name": "stdout",
     "output_type": "stream",
     "text": [
      "Range: \n",
      " (country           Afghanistan\n",
      "gdp                         0\n",
      "social_support              0\n",
      "health                      0\n",
      "freedom                     0\n",
      "generosity                  0\n",
      "corruption                  0\n",
      "dtype: object, country           Zimbabwe\n",
      "gdp                  1.684\n",
      "social_support       1.624\n",
      "health               1.141\n",
      "freedom              0.631\n",
      "generosity           0.566\n",
      "corruption           0.453\n",
      "dtype: object)\n",
      "\n",
      "\n",
      "Mean:\n",
      " gdp               0.91\n",
      "social_support    1.21\n",
      "health            0.73\n",
      "freedom           0.39\n",
      "generosity        0.18\n",
      "corruption        0.11\n",
      "dtype: float64\n",
      "\n",
      "\n",
      "Standard deviation:\n",
      " gdp               0.40\n",
      "social_support    0.30\n",
      "health            0.24\n",
      "freedom           0.14\n",
      "generosity        0.10\n",
      "corruption        0.09\n",
      "dtype: float64\n"
     ]
    }
   ],
   "source": [
    "print(\"Range: \\n\" , ( data.min(), data.max() ) )\n",
    "print(\"\\n\\nMean:\\n\", data.mean().round(2) )\n",
    "print(\"\\n\\nStandard deviation:\\n\", data.std().round(2) )"
   ]
  },
  {
   "cell_type": "code",
   "execution_count": 44,
   "metadata": {},
   "outputs": [
    {
     "name": "stdout",
     "output_type": "stream",
     "text": [
      "--------------------------------------\n",
      "\t\tGDP\n",
      "114                   Qatar\n",
      "81               Luxembourg\n",
      "122               Singapore\n",
      "146    United Arab Emirates\n",
      "72                   Kuwait\n",
      "Name: country, dtype: object\n",
      "--------------------------------------\n",
      "\t\tSOCIAL SUPPORT\n",
      "57         Iceland\n",
      "43         Finland\n",
      "105         Norway\n",
      "36         Denmark\n",
      "99     New Zealand\n",
      "Name: country, dtype: object\n",
      "--------------------------------------\n",
      "\t\tHEALTH\n",
      "122      Singapore\n",
      "55       Hong Kong\n",
      "67           Japan\n",
      "129          Spain\n",
      "133    Switzerland\n",
      "Name: country, dtype: object\n",
      "--------------------------------------\n",
      "\t\tFREEDOM\n",
      "150              Uzbekistan\n",
      "21                 Cambodia\n",
      "105                  Norway\n",
      "146    United Arab Emirates\n",
      "43                  Finland\n",
      "Name: country, dtype: object\n",
      "--------------------------------------\n",
      "\t\tGENEROSITY\n",
      "95      Myanmar\n",
      "59    Indonesia\n",
      "53        Haiti\n",
      "86        Malta\n",
      "70        Kenya\n",
      "Name: country, dtype: object\n",
      "--------------------------------------\n",
      "\t\tCORRUPTION\n",
      "122      Singapore\n",
      "117         Rwanda\n",
      "36         Denmark\n",
      "43         Finland\n",
      "99     New Zealand\n",
      "Name: country, dtype: object\n"
     ]
    }
   ],
   "source": [
    "print(\"--------------------------------------\\n\\t\\tGDP\")\n",
    "ll = data['gdp'].nlargest().index.tolist()\n",
    "print(data['country'].iloc[ll])\n",
    "print(\"--------------------------------------\\n\\t\\tSOCIAL SUPPORT\")\n",
    "ll = data['social_support'].nlargest().index.tolist()\n",
    "print(data['country'].iloc[ll])\n",
    "print(\"--------------------------------------\\n\\t\\tHEALTH\")\n",
    "ll = data['health'].nlargest().index.tolist()\n",
    "print(data['country'].iloc[ll])\n",
    "print(\"--------------------------------------\\n\\t\\tFREEDOM\")\n",
    "ll = data['freedom'].nlargest().index.tolist()\n",
    "print(data['country'].iloc[ll])\n",
    "print(\"--------------------------------------\\n\\t\\tGENEROSITY\")\n",
    "ll = data['generosity'].nlargest().index.tolist()\n",
    "print(data['country'].iloc[ll])\n",
    "print(\"--------------------------------------\\n\\t\\tCORRUPTION\")\n",
    "ll = data['corruption'].nlargest().index.tolist()\n",
    "print(data['country'].iloc[ll])\n",
    "\n",
    "\n",
    "#a = df.where(df=='your_value').dropna(how='all').dropna(axis=1)"
   ]
  },
  {
   "cell_type": "markdown",
   "metadata": {},
   "source": [
    "Step 3. Generate a boxplot of the measures in the dataset."
   ]
  },
  {
   "cell_type": "code",
   "execution_count": 47,
   "metadata": {},
   "outputs": [
    {
     "data": {
      "image/png": "[encoded data removed]",
      "text/plain": [
       "<Figure size 720x432 with 1 Axes>"
      ]
     },
     "metadata": {
      "needs_background": "light"
     },
     "output_type": "display_data"
    }
   ],
   "source": [
    "data.boxplot(figsize=(10,6), fontsize=14);"
   ]
  },
  {
   "cell_type": "markdown",
   "metadata": {},
   "source": [
    "Step 4. Apply a simple linear regression to learn (fit) the model, where *gdp* is the independent variable and *health* is the target variable that we would like to predict. Produce a plot of the regression line."
   ]
  },
  {
   "cell_type": "code",
   "execution_count": 50,
   "metadata": {},
   "outputs": [
    {
     "data": {
      "text/plain": [
       "LinearRegression()"
      ]
     },
     "execution_count": 50,
     "metadata": {},
     "output_type": "execute_result"
    }
   ],
   "source": [
    "x = data[[\"gdp\"]].values\n",
    "y = data[[\"health\"]].values\n",
    "from sklearn.linear_model import LinearRegression\n",
    "model = LinearRegression()\n",
    "model.fit(x, y)"
   ]
  },
  {
   "cell_type": "code",
   "execution_count": 51,
   "metadata": {},
   "outputs": [
    {
     "name": "stdout",
     "output_type": "stream",
     "text": [
      "Model intercept is [0.26564776]\n",
      "Model slope is [0.50775798]\n"
     ]
    }
   ],
   "source": [
    "print(\"Model intercept is\", model.intercept_)\n",
    "print(\"Model slope is\", model.coef_[0])"
   ]
  },
  {
   "cell_type": "code",
   "execution_count": 53,
   "metadata": {},
   "outputs": [
    {
     "data": {
      "image/png": "[encoded data removed]",
      "text/plain": [
       "<Figure size 576x432 with 1 Axes>"
      ]
     },
     "metadata": {
      "needs_background": "light"
     },
     "output_type": "display_data"
    }
   ],
   "source": [
    "# plot the data\n",
    "plt.figure(figsize=(8,6))\n",
    "plt.scatter(x, y)\n",
    "# plot the regression line\n",
    "m = model.coef_[0]\n",
    "b = model.intercept_\n",
    "plt.plot([min(x), max(x)], [b, m*max(x) + b], 'r')\n",
    "plt.xlabel('GDP', fontsize=14)\n",
    "plt.ylabel('HEALTH', fontsize=14);"
   ]
  },
  {
   "cell_type": "markdown",
   "metadata": {},
   "source": [
    "Step 5. Repeat the process from Step 4, but this time use *generosity* as the target variable. What does a comparison of the two regression lines indicate?"
   ]
  },
  {
   "cell_type": "code",
   "execution_count": 54,
   "metadata": {},
   "outputs": [
    {
     "data": {
      "text/plain": [
       "LinearRegression()"
      ]
     },
     "execution_count": 54,
     "metadata": {},
     "output_type": "execute_result"
    }
   ],
   "source": [
    "x = data[[\"gdp\"]].values\n",
    "y = data[[\"generosity\"]].values\n",
    "from sklearn.linear_model import LinearRegression\n",
    "model = LinearRegression()\n",
    "model.fit(x, y)"
   ]
  },
  {
   "cell_type": "code",
   "execution_count": 55,
   "metadata": {},
   "outputs": [
    {
     "name": "stdout",
     "output_type": "stream",
     "text": [
      "Model intercept is [0.20208664]\n",
      "Model slope is [-0.01904716]\n"
     ]
    }
   ],
   "source": [
    "print(\"Model intercept is\", model.intercept_)\n",
    "print(\"Model slope is\", model.coef_[0])"
   ]
  },
  {
   "cell_type": "code",
   "execution_count": 56,
   "metadata": {},
   "outputs": [
    {
     "data": {
      "image/png": "[encoded data removed]",
      "text/plain": [
       "<Figure size 576x432 with 1 Axes>"
      ]
     },
     "metadata": {
      "needs_background": "light"
     },
     "output_type": "display_data"
    }
   ],
   "source": [
    "# plot the data\n",
    "plt.figure(figsize=(8,6))\n",
    "plt.scatter(x, y)\n",
    "# plot the regression line\n",
    "m = model.coef_[0]\n",
    "b = model.intercept_\n",
    "plt.plot([min(x), max(x)], [b, m*max(x) + b], 'r')\n",
    "plt.xlabel('GDP', fontsize=14)\n",
    "plt.ylabel('HEALTH', fontsize=14);"
   ]
  },
  {
   "cell_type": "markdown",
   "metadata": {},
   "source": [
    "## THE RESULTS SHOW THAT THERE IS A STRONG CORRELATION BETWEEN GDP AND HEALTH. THE HIGHER THE GDP THE HEALTHIER THE PEOPLE. \n",
    "\n",
    "## THAT IS NOT TRUE WHEN IT COMES TO GENEROSITY. THERE IS NO CORRELATION / RELATIONSHIP BETWEEN GDP OF A COUNTRY AND HOW GENEROUS THE CITIZENS ARE."
   ]
  },
  {
   "cell_type": "code",
   "execution_count": null,
   "metadata": {},
   "outputs": [],
   "source": []
  }
 ],
 "metadata": {
  "kernelspec": {
   "display_name": "Python 3",
   "language": "python",
   "name": "python3"
  },
  "language_info": {
   "codemirror_mode": {
    "name": "ipython",
    "version": 3
   },
   "file_extension": ".py",
   "mimetype": "text/x-python",
   "name": "python",
   "nbconvert_exporter": "python",
   "pygments_lexer": "ipython3",
   "version": "3.8.5"
  }
 },
 "nbformat": 4,
 "nbformat_minor": 1
}
