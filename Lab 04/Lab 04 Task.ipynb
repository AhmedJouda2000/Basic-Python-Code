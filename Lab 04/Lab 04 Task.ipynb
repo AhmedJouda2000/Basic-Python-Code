{
 "cells": [
  {
   "cell_type": "markdown",
   "metadata": {},
   "source": [
    "# Lab 4 Tasks"
   ]
  },
  {
   "cell_type": "markdown",
   "metadata": {
    "collapsed": true
   },
   "source": [
    "Download the data file *election2020.tsv* from Brightspace, which contains statistics for a set of Irish politicians who were active on Twitter during the 2020 General Election. The format of the file is tab-separated with a header line.\n",
    "\n",
    "Complete the steps below using the *Pandas* library."
   ]
  },
  {
   "cell_type": "markdown",
   "metadata": {},
   "source": [
    "Step 1. Load the dataset from the tab-separated file *election2020.tsv* using Pandas. Use the \\\"username\\\" column as the row index."
   ]
  },
  {
   "cell_type": "code",
   "execution_count": 2,
   "metadata": {},
   "outputs": [
    {
     "data": {
      "text/html": [
       "<div>\n",
       "<style scoped>\n",
       "    .dataframe tbody tr th:only-of-type {\n",
       "        vertical-align: middle;\n",
       "    }\n",
       "\n",
       "    .dataframe tbody tr th {\n",
       "        vertical-align: top;\n",
       "    }\n",
       "\n",
       "    .dataframe thead th {\n",
       "        text-align: right;\n",
       "    }\n",
       "</style>\n",
       "<table border=\"1\" class=\"dataframe\">\n",
       "  <thead>\n",
       "    <tr style=\"text-align: right;\">\n",
       "      <th></th>\n",
       "      <th>lastname</th>\n",
       "      <th>firstname</th>\n",
       "      <th>party</th>\n",
       "      <th>constituency</th>\n",
       "      <th>followers</th>\n",
       "      <th>friends</th>\n",
       "      <th>tweets</th>\n",
       "    </tr>\n",
       "    <tr>\n",
       "      <th>username</th>\n",
       "      <th></th>\n",
       "      <th></th>\n",
       "      <th></th>\n",
       "      <th></th>\n",
       "      <th></th>\n",
       "      <th></th>\n",
       "      <th></th>\n",
       "    </tr>\n",
       "  </thead>\n",
       "  <tbody>\n",
       "    <tr>\n",
       "      <th>1garygannon</th>\n",
       "      <td>Gannon</td>\n",
       "      <td>Gary</td>\n",
       "      <td>Social Democrats</td>\n",
       "      <td>Dublin Central</td>\n",
       "      <td>11162</td>\n",
       "      <td>2457</td>\n",
       "      <td>18597.0</td>\n",
       "    </tr>\n",
       "    <tr>\n",
       "      <th>adoyletd</th>\n",
       "      <td>Doyle</td>\n",
       "      <td>Andrew</td>\n",
       "      <td>Fine Gael</td>\n",
       "      <td>Wicklow</td>\n",
       "      <td>7900</td>\n",
       "      <td>1147</td>\n",
       "      <td>4437.0</td>\n",
       "    </tr>\n",
       "    <tr>\n",
       "      <th>aengusomaolain</th>\n",
       "      <td>Ó Maolain</td>\n",
       "      <td>Aengus</td>\n",
       "      <td>Social Democrats</td>\n",
       "      <td>Dublin West</td>\n",
       "      <td>1927</td>\n",
       "      <td>916</td>\n",
       "      <td>7928.0</td>\n",
       "    </tr>\n",
       "    <tr>\n",
       "      <th>aislingd_cllr</th>\n",
       "      <td>Dolan</td>\n",
       "      <td>Aisling</td>\n",
       "      <td>Fine Gael</td>\n",
       "      <td>Roscommon Galway</td>\n",
       "      <td>235</td>\n",
       "      <td>489</td>\n",
       "      <td>172.0</td>\n",
       "    </tr>\n",
       "    <tr>\n",
       "      <th>alan_dillon</th>\n",
       "      <td>Dillon</td>\n",
       "      <td>Alan</td>\n",
       "      <td>Fine Gael</td>\n",
       "      <td>Mayo</td>\n",
       "      <td>13784</td>\n",
       "      <td>1774</td>\n",
       "      <td>1298.0</td>\n",
       "    </tr>\n",
       "    <tr>\n",
       "      <th>...</th>\n",
       "      <td>...</td>\n",
       "      <td>...</td>\n",
       "      <td>...</td>\n",
       "      <td>...</td>\n",
       "      <td>...</td>\n",
       "      <td>...</td>\n",
       "      <td>...</td>\n",
       "    </tr>\n",
       "    <tr>\n",
       "      <th>votetomneville</th>\n",
       "      <td>Neville</td>\n",
       "      <td>Tom</td>\n",
       "      <td>Fine Gael</td>\n",
       "      <td>Limerick County</td>\n",
       "      <td>1920</td>\n",
       "      <td>840</td>\n",
       "      <td>2075.0</td>\n",
       "    </tr>\n",
       "    <tr>\n",
       "      <th>walshthomasf</th>\n",
       "      <td>Walsh</td>\n",
       "      <td>Thomas</td>\n",
       "      <td>Fianna Fail</td>\n",
       "      <td>Sligo Leitrim</td>\n",
       "      <td>553</td>\n",
       "      <td>857</td>\n",
       "      <td>2801.0</td>\n",
       "    </tr>\n",
       "    <tr>\n",
       "      <th>wardy1916</th>\n",
       "      <td>Ward</td>\n",
       "      <td>Mark</td>\n",
       "      <td>Sinn Fein</td>\n",
       "      <td>Dublin Mid West</td>\n",
       "      <td>2107</td>\n",
       "      <td>563</td>\n",
       "      <td>1278.0</td>\n",
       "    </tr>\n",
       "    <tr>\n",
       "      <th>whitmorejen</th>\n",
       "      <td>Whitmore</td>\n",
       "      <td>Jennifer</td>\n",
       "      <td>Social Democrats</td>\n",
       "      <td>Wicklow</td>\n",
       "      <td>1887</td>\n",
       "      <td>1026</td>\n",
       "      <td>4435.0</td>\n",
       "    </tr>\n",
       "    <tr>\n",
       "      <th>willieodealive</th>\n",
       "      <td>O'Dea</td>\n",
       "      <td>Willie</td>\n",
       "      <td>Fianna Fail</td>\n",
       "      <td>Limerick City</td>\n",
       "      <td>6510</td>\n",
       "      <td>758</td>\n",
       "      <td>2127.0</td>\n",
       "    </tr>\n",
       "  </tbody>\n",
       "</table>\n",
       "<p>273 rows × 7 columns</p>\n",
       "</div>"
      ],
      "text/plain": [
       "                 lastname firstname             party      constituency  \\\n",
       "username                                                                  \n",
       "1garygannon        Gannon      Gary  Social Democrats    Dublin Central   \n",
       "adoyletd            Doyle    Andrew         Fine Gael           Wicklow   \n",
       "aengusomaolain  Ó Maolain    Aengus  Social Democrats       Dublin West   \n",
       "aislingd_cllr       Dolan   Aisling         Fine Gael  Roscommon Galway   \n",
       "alan_dillon        Dillon      Alan         Fine Gael              Mayo   \n",
       "...                   ...       ...               ...               ...   \n",
       "votetomneville    Neville       Tom         Fine Gael   Limerick County   \n",
       "walshthomasf        Walsh    Thomas       Fianna Fail     Sligo Leitrim   \n",
       "wardy1916            Ward      Mark         Sinn Fein   Dublin Mid West   \n",
       "whitmorejen      Whitmore  Jennifer  Social Democrats           Wicklow   \n",
       "willieodealive      O'Dea    Willie       Fianna Fail     Limerick City   \n",
       "\n",
       "                followers  friends   tweets  \n",
       "username                                     \n",
       "1garygannon         11162     2457  18597.0  \n",
       "adoyletd             7900     1147   4437.0  \n",
       "aengusomaolain       1927      916   7928.0  \n",
       "aislingd_cllr         235      489    172.0  \n",
       "alan_dillon         13784     1774   1298.0  \n",
       "...                   ...      ...      ...  \n",
       "votetomneville       1920      840   2075.0  \n",
       "walshthomasf          553      857   2801.0  \n",
       "wardy1916            2107      563   1278.0  \n",
       "whitmorejen          1887     1026   4435.0  \n",
       "willieodealive       6510      758   2127.0  \n",
       "\n",
       "[273 rows x 7 columns]"
      ]
     },
     "execution_count": 2,
     "metadata": {},
     "output_type": "execute_result"
    }
   ],
   "source": [
    "import pandas as pd\n",
    "df = pd.read_csv(\"election2020.tsv\", sep=\"\\t\", index_col=\"username\" )\n",
    "df"
   ]
  },
  {
   "cell_type": "markdown",
   "metadata": {},
   "source": [
    "Step 2. Calculate summary statistics for the dataset."
   ]
  },
  {
   "cell_type": "code",
   "execution_count": 3,
   "metadata": {},
   "outputs": [
    {
     "data": {
      "text/html": [
       "<div>\n",
       "<style scoped>\n",
       "    .dataframe tbody tr th:only-of-type {\n",
       "        vertical-align: middle;\n",
       "    }\n",
       "\n",
       "    .dataframe tbody tr th {\n",
       "        vertical-align: top;\n",
       "    }\n",
       "\n",
       "    .dataframe thead th {\n",
       "        text-align: right;\n",
       "    }\n",
       "</style>\n",
       "<table border=\"1\" class=\"dataframe\">\n",
       "  <thead>\n",
       "    <tr style=\"text-align: right;\">\n",
       "      <th></th>\n",
       "      <th>followers</th>\n",
       "      <th>friends</th>\n",
       "      <th>tweets</th>\n",
       "    </tr>\n",
       "  </thead>\n",
       "  <tbody>\n",
       "    <tr>\n",
       "      <th>count</th>\n",
       "      <td>273.000000</td>\n",
       "      <td>273.000000</td>\n",
       "      <td>257.000000</td>\n",
       "    </tr>\n",
       "    <tr>\n",
       "      <th>mean</th>\n",
       "      <td>6662.106227</td>\n",
       "      <td>1659.201465</td>\n",
       "      <td>6893.299611</td>\n",
       "    </tr>\n",
       "    <tr>\n",
       "      <th>std</th>\n",
       "      <td>17404.305170</td>\n",
       "      <td>1363.891189</td>\n",
       "      <td>11208.046080</td>\n",
       "    </tr>\n",
       "    <tr>\n",
       "      <th>min</th>\n",
       "      <td>143.000000</td>\n",
       "      <td>74.000000</td>\n",
       "      <td>105.000000</td>\n",
       "    </tr>\n",
       "    <tr>\n",
       "      <th>25%</th>\n",
       "      <td>1174.000000</td>\n",
       "      <td>684.000000</td>\n",
       "      <td>1353.000000</td>\n",
       "    </tr>\n",
       "    <tr>\n",
       "      <th>50%</th>\n",
       "      <td>2788.000000</td>\n",
       "      <td>1265.000000</td>\n",
       "      <td>3379.000000</td>\n",
       "    </tr>\n",
       "    <tr>\n",
       "      <th>75%</th>\n",
       "      <td>6107.000000</td>\n",
       "      <td>2159.000000</td>\n",
       "      <td>8322.000000</td>\n",
       "    </tr>\n",
       "    <tr>\n",
       "      <th>max</th>\n",
       "      <td>238593.000000</td>\n",
       "      <td>6801.000000</td>\n",
       "      <td>124896.000000</td>\n",
       "    </tr>\n",
       "  </tbody>\n",
       "</table>\n",
       "</div>"
      ],
      "text/plain": [
       "           followers      friends         tweets\n",
       "count     273.000000   273.000000     257.000000\n",
       "mean     6662.106227  1659.201465    6893.299611\n",
       "std     17404.305170  1363.891189   11208.046080\n",
       "min       143.000000    74.000000     105.000000\n",
       "25%      1174.000000   684.000000    1353.000000\n",
       "50%      2788.000000  1265.000000    3379.000000\n",
       "75%      6107.000000  2159.000000    8322.000000\n",
       "max    238593.000000  6801.000000  124896.000000"
      ]
     },
     "execution_count": 3,
     "metadata": {},
     "output_type": "execute_result"
    }
   ],
   "source": [
    "df.describe()"
   ]
  },
  {
   "cell_type": "markdown",
   "metadata": {},
   "source": [
    "Step 3. Find the number of missing values in each column."
   ]
  },
  {
   "cell_type": "code",
   "execution_count": 4,
   "metadata": {},
   "outputs": [
    {
     "data": {
      "text/plain": [
       "lastname         0\n",
       "firstname        0\n",
       "party            0\n",
       "constituency     0\n",
       "followers        0\n",
       "friends          0\n",
       "tweets          16\n",
       "dtype: int64"
      ]
     },
     "execution_count": 4,
     "metadata": {},
     "output_type": "execute_result"
    }
   ],
   "source": [
    "df.isnull().sum()"
   ]
  },
  {
   "cell_type": "markdown",
   "metadata": {
    "collapsed": true
   },
   "source": [
    "Step 4. Replace all missing values in the \"tweets\" column with the mean value for that column."
   ]
  },
  {
   "cell_type": "code",
   "execution_count": 6,
   "metadata": {},
   "outputs": [
    {
     "data": {
      "text/plain": [
       "lastname        0\n",
       "firstname       0\n",
       "party           0\n",
       "constituency    0\n",
       "followers       0\n",
       "friends         0\n",
       "tweets          0\n",
       "dtype: int64"
      ]
     },
     "execution_count": 6,
     "metadata": {},
     "output_type": "execute_result"
    }
   ],
   "source": [
    "mean_tweets = int(df[\"tweets\"].mean())\n",
    "df[\"tweets\"] = df[\"tweets\"].fillna(mean_tweets)\n",
    "df.isnull().sum()"
   ]
  },
  {
   "cell_type": "markdown",
   "metadata": {},
   "source": [
    "Step 5. Group the rows in the dataset based on the \"party\" column, and display the aggregate total and mean values for the groups."
   ]
  },
  {
   "cell_type": "code",
   "execution_count": 10,
   "metadata": {},
   "outputs": [
    {
     "name": "stdout",
     "output_type": "stream",
     "text": [
      "                  followers  friends    tweets\n",
      "party                                         \n",
      "Fianna Fail          338444   132656  507607.0\n",
      "Fine Gael            890455   136051  548038.0\n",
      "Green Party          116993    49519  202645.0\n",
      "Labour               151826    47836  161765.0\n",
      "Sinn Fein            247457    54890  350561.0\n",
      "Social Democrats      73580    32010  111250.0\n",
      "                     followers      friends       tweets\n",
      "party                                                   \n",
      "Fianna Fail        4395.376623  1722.805195  6592.298701\n",
      "Fine Gael         12033.175676  1838.527027  7405.918919\n",
      "Green Party        3078.763158  1303.131579  5332.763158\n",
      "Labour             5839.461538  1839.846154  6221.730769\n",
      "Sinn Fein          6512.026316  1444.473684  9225.289474\n",
      "Social Democrats   3679.000000  1600.500000  5562.500000\n"
     ]
    }
   ],
   "source": [
    "party_group = df.groupby(\"party\")\n",
    "print(party_group.sum())\n",
    "print(party_group.mean())"
   ]
  },
  {
   "cell_type": "markdown",
   "metadata": {},
   "source": [
    "Step 6. Group the rows in the dataset based on the \"constituency\" column, and display the aggregate total and mean values for the groups."
   ]
  },
  {
   "cell_type": "code",
   "execution_count": 11,
   "metadata": {},
   "outputs": [
    {
     "name": "stdout",
     "output_type": "stream",
     "text": [
      "                      followers  friends    tweets\n",
      "constituency                                      \n",
      "Carlow Kilkenny           21783    12177   31371.0\n",
      "Cavan Monaghan            39160    10193   46601.0\n",
      "Clare                     24677    10766   27565.0\n",
      "Cork East                 22599     9148   19866.0\n",
      "Cork North Central        24716    22325  101213.0\n",
      "Cork North West           14992     7435   23634.0\n",
      "Cork South Central       170995    17747   72255.0\n",
      "Cork South West           13785    11974   25029.0\n",
      "Donegal                   63579     6177   29995.0\n",
      "Dublin Bay North          82112     9822   31743.0\n",
      "Dublin Bay South          85687    14931   51505.0\n",
      "Dublin Central           129626    11582   59825.0\n",
      "Dublin Fingal             39726    10391   70208.0\n",
      "Dublin Mid West           39181    15974  134719.0\n",
      "Dublin North West         31314     7819   55633.0\n",
      "Dublin Rathdown           39640    13501   95477.0\n",
      "Dublin South Central      27387    10935   37104.0\n",
      "Dublin South West         20251    13508   27602.0\n",
      "Dublin West              275354    10442   39737.0\n",
      "Dun Laoghaire             69824    28105  109354.0\n",
      "Galway East               19651    14779   70460.0\n",
      "Galway West               27950    14277   37270.0\n",
      "Kerry                     10659     4293   11406.0\n",
      "Kildare North             43287    14622  167075.0\n",
      "Kildare South             14085    10561   14783.0\n",
      "Laois Offaly              41654     5803   32600.0\n",
      "Limerick City             33626    11860   47248.0\n",
      "Limerick County           16373     3171   12494.0\n",
      "Longford Westmeath        13911     6082   23137.0\n",
      "Louth                     25632    11990   45564.0\n",
      "Mayo                      59225    14289   29253.0\n",
      "Meath East                58820    14589   68882.0\n",
      "Meath West                17391     7048   15522.0\n",
      "Roscommon Galway           5130     2432   17240.0\n",
      "Sligo Leitrim             21937    17541   45735.0\n",
      "Tipperary                 20748    11945   21538.0\n",
      "Waterford                 17982    13110   47812.0\n",
      "Wexford                   22833    10766   36382.0\n",
      "Wicklow                  111473     8852   47029.0\n",
      "                         followers      friends        tweets\n",
      "constituency                                                 \n",
      "Carlow Kilkenny        2420.333333  1353.000000   3485.666667\n",
      "Cavan Monaghan         4895.000000  1274.125000   5825.125000\n",
      "Clare                  3084.625000  1345.750000   3445.625000\n",
      "Cork East              3228.428571  1306.857143   2838.000000\n",
      "Cork North Central     2746.222222  2480.555556  11245.888889\n",
      "Cork North West        2998.400000  1487.000000   4726.800000\n",
      "Cork South Central    21374.375000  2218.375000   9031.875000\n",
      "Cork South West        1969.285714  1710.571429   3575.571429\n",
      "Donegal               12715.800000  1235.400000   5999.000000\n",
      "Dublin Bay North      10264.000000  1227.750000   3967.875000\n",
      "Dublin Bay South      12241.000000  2133.000000   7357.857143\n",
      "Dublin Central        18518.000000  1654.571429   8546.428571\n",
      "Dublin Fingal          4965.750000  1298.875000   8776.000000\n",
      "Dublin Mid West        4897.625000  1996.750000  16839.875000\n",
      "Dublin North West      6262.800000  1563.800000  11126.600000\n",
      "Dublin Rathdown        5662.857143  1928.714286  13639.571429\n",
      "Dublin South Central   3912.428571  1562.142857   5300.571429\n",
      "Dublin South West      2531.375000  1688.500000   3450.250000\n",
      "Dublin West           39336.285714  1491.714286   5676.714286\n",
      "Dun Laoghaire          7758.222222  3122.777778  12150.444444\n",
      "Galway East            3930.200000  2955.800000  14092.000000\n",
      "Galway West            3992.857143  2039.571429   5324.285714\n",
      "Kerry                  2131.800000   858.600000   2281.200000\n",
      "Kildare North          7214.500000  2437.000000  27845.833333\n",
      "Kildare South          2347.500000  1760.166667   2463.833333\n",
      "Laois Offaly           5950.571429   829.000000   4657.142857\n",
      "Limerick City          4203.250000  1482.500000   5906.000000\n",
      "Limerick County        4093.250000   792.750000   3123.500000\n",
      "Longford Westmeath     1987.285714   868.857143   3305.285714\n",
      "Louth                  3204.000000  1498.750000   5695.500000\n",
      "Mayo                   8460.714286  2041.285714   4179.000000\n",
      "Meath East             8402.857143  2084.142857   9840.285714\n",
      "Meath West             2484.428571  1006.857143   2217.428571\n",
      "Roscommon Galway       1026.000000   486.400000   3448.000000\n",
      "Sligo Leitrim          2742.125000  2192.625000   5716.875000\n",
      "Tipperary              2964.000000  1706.428571   3076.857143\n",
      "Waterford              3596.400000  2622.000000   9562.400000\n",
      "Wexford                2854.125000  1345.750000   4547.750000\n",
      "Wicklow               12385.888889   983.555556   5225.444444\n"
     ]
    }
   ],
   "source": [
    "party_group = df.groupby(\"constituency\")\n",
    "print(party_group.sum())\n",
    "print(party_group.mean())"
   ]
  },
  {
   "cell_type": "code",
   "execution_count": null,
   "metadata": {},
   "outputs": [],
   "source": []
  }
 ],
 "metadata": {
  "kernelspec": {
   "display_name": "Python 3",
   "language": "python",
   "name": "python3"
  },
  "language_info": {
   "codemirror_mode": {
    "name": "ipython",
    "version": 3
   },
   "file_extension": ".py",
   "mimetype": "text/x-python",
   "name": "python",
   "nbconvert_exporter": "python",
   "pygments_lexer": "ipython3",
   "version": "3.8.5"
  }
 },
 "nbformat": 4,
 "nbformat_minor": 1
}
