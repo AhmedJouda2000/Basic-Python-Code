{
 "cells": [
  {
   "cell_type": "markdown",
   "metadata": {},
   "source": [
    "# Lab 7 Tasks"
   ]
  },
  {
   "cell_type": "markdown",
   "metadata": {},
   "source": [
    "Step 1. Download a numeric dataset in CSV (comma-separated) format and save it to disk: \n",
    "\n",
    "http://mlg.ucd.ie/modules/COMP30760/plant.csv"
   ]
  },
  {
   "cell_type": "code",
   "execution_count": 3,
   "metadata": {
    "scrolled": true
   },
   "outputs": [
    {
     "name": "stdout",
     "output_type": "stream",
     "text": [
      "CSV saved!\n"
     ]
    }
   ],
   "source": [
    "import requests\n",
    "url = \"http://mlg.ucd.ie/modules/COMP30760/plant.csv\"\n",
    "response = requests.get(url)\n",
    "with open(\"plants.csv\", \"wb\") as f:\n",
    "            f.write(response.content)\n",
    "            print(\"CSV saved!\")"
   ]
  },
  {
   "cell_type": "markdown",
   "metadata": {},
   "source": [
    "Step 2. Use NumPy to load this dataset into a 2D NumPy array. "
   ]
  },
  {
   "cell_type": "code",
   "execution_count": 6,
   "metadata": {},
   "outputs": [],
   "source": [
    "import numpy as np\n",
    "data = np.loadtxt(\"plants.csv\",delimiter=\",\")"
   ]
  },
  {
   "cell_type": "markdown",
   "metadata": {},
   "source": [
    "Step 3. Calculate basic summary statistics for the data."
   ]
  },
  {
   "cell_type": "code",
   "execution_count": 28,
   "metadata": {},
   "outputs": [
    {
     "name": "stdout",
     "output_type": "stream",
     "text": [
      "Range: [7,93]\n",
      "Mean: 46.52\n",
      "Standard deviation: 29.31\n"
     ]
    }
   ],
   "source": [
    "print(\"Range: [%.f,%.f]\" % ( data.min(), data.max() ) )\n",
    "print(\"Mean:\", data.mean().round(2) )\n",
    "print(\"Standard deviation:\", data.std().round(2) )"
   ]
  },
  {
   "cell_type": "markdown",
   "metadata": {},
   "source": [
    "Step 4. Create a new version of the dataset which consists only of the first three columns of the original dataset, and where all elements with a value < 20 have been set to 20."
   ]
  },
  {
   "cell_type": "code",
   "execution_count": 24,
   "metadata": {},
   "outputs": [
    {
     "data": {
      "text/plain": [
       "array([[80., 27., 89.],\n",
       "       [80., 27., 88.],\n",
       "       [75., 25., 90.],\n",
       "       [62., 24., 87.],\n",
       "       [62., 22., 87.],\n",
       "       [62., 23., 87.],\n",
       "       [62., 24., 93.],\n",
       "       [62., 24., 93.],\n",
       "       [58., 23., 87.],\n",
       "       [58., 20., 80.],\n",
       "       [58., 20., 89.],\n",
       "       [58., 20., 88.],\n",
       "       [58., 20., 82.],\n",
       "       [58., 20., 93.],\n",
       "       [50., 20., 89.],\n",
       "       [50., 20., 86.],\n",
       "       [50., 20., 72.],\n",
       "       [50., 20., 79.],\n",
       "       [50., 20., 80.],\n",
       "       [56., 20., 82.],\n",
       "       [70., 20., 91.]])"
      ]
     },
     "execution_count": 24,
     "metadata": {},
     "output_type": "execute_result"
    }
   ],
   "source": [
    "data_new = data[:,0:3]\n",
    "data_new[data_new<20] = 20\n",
    "data_new"
   ]
  },
  {
   "cell_type": "markdown",
   "metadata": {},
   "source": [
    "Step 5. Normalise the new version of the data by dividing the elements in each column by the mean value for that column. Then show updated summary statistics."
   ]
  },
  {
   "cell_type": "code",
   "execution_count": 26,
   "metadata": {},
   "outputs": [
    {
     "data": {
      "text/plain": [
       "array([[1.32387707, 1.23529412, 1.03145695],\n",
       "       [1.32387707, 1.23529412, 1.01986755],\n",
       "       [1.24113475, 1.14379085, 1.04304636],\n",
       "       [1.02600473, 1.09803922, 1.00827815],\n",
       "       [1.02600473, 1.00653595, 1.00827815],\n",
       "       [1.02600473, 1.05228758, 1.00827815],\n",
       "       [1.02600473, 1.09803922, 1.07781457],\n",
       "       [1.02600473, 1.09803922, 1.07781457],\n",
       "       [0.95981087, 1.05228758, 1.00827815],\n",
       "       [0.95981087, 0.91503268, 0.92715232],\n",
       "       [0.95981087, 0.91503268, 1.03145695],\n",
       "       [0.95981087, 0.91503268, 1.01986755],\n",
       "       [0.95981087, 0.91503268, 0.95033113],\n",
       "       [0.95981087, 0.91503268, 1.07781457],\n",
       "       [0.82742317, 0.91503268, 1.03145695],\n",
       "       [0.82742317, 0.91503268, 0.99668874],\n",
       "       [0.82742317, 0.91503268, 0.83443709],\n",
       "       [0.82742317, 0.91503268, 0.91556291],\n",
       "       [0.82742317, 0.91503268, 0.92715232],\n",
       "       [0.92671395, 0.91503268, 0.95033113],\n",
       "       [1.15839243, 0.91503268, 1.05463576]])"
      ]
     },
     "execution_count": 26,
     "metadata": {},
     "output_type": "execute_result"
    }
   ],
   "source": [
    "col_means = data_new.mean(axis=0)\n",
    "data_new = data_new/col_means\n",
    "data_new"
   ]
  },
  {
   "cell_type": "code",
   "execution_count": 31,
   "metadata": {},
   "outputs": [
    {
     "name": "stdout",
     "output_type": "stream",
     "text": [
      "Range: [0.83,1.32]\n",
      "Mean: 1.0\n",
      "Standard deviation: 0.11\n"
     ]
    }
   ],
   "source": [
    "print(\"Range: [%.2f,%.2f]\" % ( data_new.min(), data_new.max() ) )\n",
    "print(\"Mean:\", data_new.mean().round(2) )\n",
    "print(\"Standard deviation:\", data_new.std().round(2) )"
   ]
  },
  {
   "cell_type": "markdown",
   "metadata": {},
   "source": [
    "Step 6. Save the final version of the data to disk as a comma-separated text file, where values are stored rounded to 2 decimal places."
   ]
  },
  {
   "cell_type": "code",
   "execution_count": 32,
   "metadata": {},
   "outputs": [],
   "source": [
    "np.savetxt(\"plants_final.csv\",data_new,\"%.2f\",\",\")"
   ]
  },
  {
   "cell_type": "markdown",
   "metadata": {},
   "source": [
    "Step 7. Create a colour plot visualisation of the final version of the data, using Matplotlib."
   ]
  },
  {
   "cell_type": "code",
   "execution_count": 35,
   "metadata": {},
   "outputs": [
    {
     "data": {
      "image/png": "[encoded data removed]",
      "text/plain": [
       "<Figure size 720x1080 with 2 Axes>"
      ]
     },
     "metadata": {
      "needs_background": "light"
     },
     "output_type": "display_data"
    }
   ],
   "source": [
    "import matplotlib\n",
    "import matplotlib.pyplot as plt\n",
    "%matplotlib inline\n",
    "plt.figure(figsize=(10,15))\n",
    "plt.pcolor(data_new)    \n",
    "plt.colorbar();"
   ]
  }
 ],
 "metadata": {
  "kernelspec": {
   "display_name": "Python 3",
   "language": "python",
   "name": "python3"
  },
  "language_info": {
   "codemirror_mode": {
    "name": "ipython",
    "version": 3
   },
   "file_extension": ".py",
   "mimetype": "text/x-python",
   "name": "python",
   "nbconvert_exporter": "python",
   "pygments_lexer": "ipython3",
   "version": "3.8.5"
  }
 },
 "nbformat": 4,
 "nbformat_minor": 1
}
